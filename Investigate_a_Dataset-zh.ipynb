{
 "cells": [
  {
   "cell_type": "markdown",
   "metadata": {},
   "source": [
    "\n",
    "# 项目：调查数据集（TMDb电影数据）\n",
    "\n",
    "## 目录\n",
    "<ul>\n",
    "<li><a href=\"#intro\">简介</a></li>\n",
    "<li><a href=\"#wrangling\">数据整理</a></li>\n",
    "<li><a href=\"#eda\">探索性数据分析</a></li>\n",
    "<li><a href=\"#conclusions\">结论</a></li>\n",
    "</ul>\n",
    "\n",
    "<a id='intro'></a>\n",
    "## 简介\n",
    "本数据集中包含 1 万条电影信息，信息来源为“电影数据库”（TMDb，The Movie Database），包括用户评分和票房。“演职人员 (cast)”、“电影类别 (genres)”等数据列包含由竖线字符（|）分隔的多个数值。“演职人员 (cast) ”列中有一些奇怪的字符。先不要清洁它们，你可以保持原样，不去管它们。\n",
    "\n",
    "提问：\n",
    "每年最受欢迎的电影类别是哪些？\n",
    "票房高的电影有哪些特点？"
   ]
  },
  {
   "cell_type": "code",
   "execution_count": 1,
   "metadata": {},
   "outputs": [],
   "source": [
    "import pandas as pd\n",
    "import numpy as np\n",
    "%matplotlib inline\n",
    "import matplotlib.pyplot as plt\n",
    "import seaborn as sns"
   ]
  },
  {
   "cell_type": "markdown",
   "metadata": {},
   "source": [
    "<a id='wrangling'></a>\n",
    "## 数据整理\n",
    "\n",
    "\n",
    "\n",
    "### 常规属性"
   ]
  },
  {
   "cell_type": "code",
   "execution_count": 2,
   "metadata": {},
   "outputs": [
    {
     "data": {
      "text/html": [
       "<div>\n",
       "<style>\n",
       "    .dataframe thead tr:only-child th {\n",
       "        text-align: right;\n",
       "    }\n",
       "\n",
       "    .dataframe thead th {\n",
       "        text-align: left;\n",
       "    }\n",
       "\n",
       "    .dataframe tbody tr th {\n",
       "        vertical-align: top;\n",
       "    }\n",
       "</style>\n",
       "<table border=\"1\" class=\"dataframe\">\n",
       "  <thead>\n",
       "    <tr style=\"text-align: right;\">\n",
       "      <th></th>\n",
       "      <th>id</th>\n",
       "      <th>imdb_id</th>\n",
       "      <th>popularity</th>\n",
       "      <th>budget</th>\n",
       "      <th>revenue</th>\n",
       "      <th>original_title</th>\n",
       "      <th>cast</th>\n",
       "      <th>homepage</th>\n",
       "      <th>director</th>\n",
       "      <th>tagline</th>\n",
       "      <th>...</th>\n",
       "      <th>overview</th>\n",
       "      <th>runtime</th>\n",
       "      <th>genres</th>\n",
       "      <th>production_companies</th>\n",
       "      <th>release_date</th>\n",
       "      <th>vote_count</th>\n",
       "      <th>vote_average</th>\n",
       "      <th>release_year</th>\n",
       "      <th>budget_adj</th>\n",
       "      <th>revenue_adj</th>\n",
       "    </tr>\n",
       "  </thead>\n",
       "  <tbody>\n",
       "    <tr>\n",
       "      <th>0</th>\n",
       "      <td>135397</td>\n",
       "      <td>tt0369610</td>\n",
       "      <td>32.985763</td>\n",
       "      <td>150000000</td>\n",
       "      <td>1513528810</td>\n",
       "      <td>Jurassic World</td>\n",
       "      <td>Chris Pratt|Bryce Dallas Howard|Irrfan Khan|Vi...</td>\n",
       "      <td>http://www.jurassicworld.com/</td>\n",
       "      <td>Colin Trevorrow</td>\n",
       "      <td>The park is open.</td>\n",
       "      <td>...</td>\n",
       "      <td>Twenty-two years after the events of Jurassic ...</td>\n",
       "      <td>124</td>\n",
       "      <td>Action|Adventure|Science Fiction|Thriller</td>\n",
       "      <td>Universal Studios|Amblin Entertainment|Legenda...</td>\n",
       "      <td>6/9/15</td>\n",
       "      <td>5562</td>\n",
       "      <td>6.5</td>\n",
       "      <td>2015</td>\n",
       "      <td>1.379999e+08</td>\n",
       "      <td>1.392446e+09</td>\n",
       "    </tr>\n",
       "    <tr>\n",
       "      <th>1</th>\n",
       "      <td>76341</td>\n",
       "      <td>tt1392190</td>\n",
       "      <td>28.419936</td>\n",
       "      <td>150000000</td>\n",
       "      <td>378436354</td>\n",
       "      <td>Mad Max: Fury Road</td>\n",
       "      <td>Tom Hardy|Charlize Theron|Hugh Keays-Byrne|Nic...</td>\n",
       "      <td>http://www.madmaxmovie.com/</td>\n",
       "      <td>George Miller</td>\n",
       "      <td>What a Lovely Day.</td>\n",
       "      <td>...</td>\n",
       "      <td>An apocalyptic story set in the furthest reach...</td>\n",
       "      <td>120</td>\n",
       "      <td>Action|Adventure|Science Fiction|Thriller</td>\n",
       "      <td>Village Roadshow Pictures|Kennedy Miller Produ...</td>\n",
       "      <td>5/13/15</td>\n",
       "      <td>6185</td>\n",
       "      <td>7.1</td>\n",
       "      <td>2015</td>\n",
       "      <td>1.379999e+08</td>\n",
       "      <td>3.481613e+08</td>\n",
       "    </tr>\n",
       "  </tbody>\n",
       "</table>\n",
       "<p>2 rows × 21 columns</p>\n",
       "</div>"
      ],
      "text/plain": [
       "       id    imdb_id  popularity     budget     revenue      original_title  \\\n",
       "0  135397  tt0369610   32.985763  150000000  1513528810      Jurassic World   \n",
       "1   76341  tt1392190   28.419936  150000000   378436354  Mad Max: Fury Road   \n",
       "\n",
       "                                                cast  \\\n",
       "0  Chris Pratt|Bryce Dallas Howard|Irrfan Khan|Vi...   \n",
       "1  Tom Hardy|Charlize Theron|Hugh Keays-Byrne|Nic...   \n",
       "\n",
       "                        homepage         director             tagline  \\\n",
       "0  http://www.jurassicworld.com/  Colin Trevorrow   The park is open.   \n",
       "1    http://www.madmaxmovie.com/    George Miller  What a Lovely Day.   \n",
       "\n",
       "       ...                                                overview runtime  \\\n",
       "0      ...       Twenty-two years after the events of Jurassic ...     124   \n",
       "1      ...       An apocalyptic story set in the furthest reach...     120   \n",
       "\n",
       "                                      genres  \\\n",
       "0  Action|Adventure|Science Fiction|Thriller   \n",
       "1  Action|Adventure|Science Fiction|Thriller   \n",
       "\n",
       "                                production_companies release_date vote_count  \\\n",
       "0  Universal Studios|Amblin Entertainment|Legenda...       6/9/15       5562   \n",
       "1  Village Roadshow Pictures|Kennedy Miller Produ...      5/13/15       6185   \n",
       "\n",
       "   vote_average  release_year    budget_adj   revenue_adj  \n",
       "0           6.5          2015  1.379999e+08  1.392446e+09  \n",
       "1           7.1          2015  1.379999e+08  3.481613e+08  \n",
       "\n",
       "[2 rows x 21 columns]"
      ]
     },
     "execution_count": 2,
     "metadata": {},
     "output_type": "execute_result"
    }
   ],
   "source": [
    "# 加载数据，并打印前几行\n",
    "\n",
    "df = pd.read_csv('tmdb-movies.csv')\n",
    "df.head(2)"
   ]
  },
  {
   "cell_type": "code",
   "execution_count": 3,
   "metadata": {},
   "outputs": [
    {
     "name": "stdout",
     "output_type": "stream",
     "text": [
      "<class 'pandas.core.frame.DataFrame'>\n",
      "RangeIndex: 10866 entries, 0 to 10865\n",
      "Data columns (total 21 columns):\n",
      "id                      10866 non-null int64\n",
      "imdb_id                 10856 non-null object\n",
      "popularity              10866 non-null float64\n",
      "budget                  10866 non-null int64\n",
      "revenue                 10866 non-null int64\n",
      "original_title          10866 non-null object\n",
      "cast                    10790 non-null object\n",
      "homepage                2936 non-null object\n",
      "director                10822 non-null object\n",
      "tagline                 8042 non-null object\n",
      "keywords                9373 non-null object\n",
      "overview                10862 non-null object\n",
      "runtime                 10866 non-null int64\n",
      "genres                  10843 non-null object\n",
      "production_companies    9836 non-null object\n",
      "release_date            10866 non-null object\n",
      "vote_count              10866 non-null int64\n",
      "vote_average            10866 non-null float64\n",
      "release_year            10866 non-null int64\n",
      "budget_adj              10866 non-null float64\n",
      "revenue_adj             10866 non-null float64\n",
      "dtypes: float64(4), int64(6), object(11)\n",
      "memory usage: 1.7+ MB\n"
     ]
    }
   ],
   "source": [
    "# 检查数据类型\n",
    "\n",
    "df.info()"
   ]
  },
  {
   "cell_type": "markdown",
   "metadata": {},
   "source": [
    "发现类型不匹配： budget列为int型，budget_adj列为float类型\n",
    "\n",
    "发现以下列存在数据缺失：\n",
    "\n",
    "imdb_id imdb ID\n",
    "\n",
    "cast 演职人员\n",
    "\n",
    "homepage 电影主页\n",
    "\n",
    "director 导演\n",
    "\n",
    "tagline 标语\n",
    "\n",
    "keywords 关键字\n",
    "\n",
    "overview 概述\n",
    "\n",
    "genres 电影类别\n",
    "\n",
    "production_companies 出品公司"
   ]
  },
  {
   "cell_type": "code",
   "execution_count": 4,
   "metadata": {},
   "outputs": [
    {
     "data": {
      "text/plain": [
       "1"
      ]
     },
     "execution_count": 4,
     "metadata": {},
     "output_type": "execute_result"
    }
   ],
   "source": [
    "# 检查有无重复记录\n",
    "\n",
    "sum(df.duplicated())"
   ]
  },
  {
   "cell_type": "code",
   "execution_count": 5,
   "metadata": {},
   "outputs": [
    {
     "data": {
      "text/plain": [
       "id                         0\n",
       "imdb_id                   10\n",
       "popularity                 0\n",
       "budget                     0\n",
       "revenue                    0\n",
       "original_title             0\n",
       "cast                      76\n",
       "homepage                7930\n",
       "director                  44\n",
       "tagline                 2824\n",
       "keywords                1493\n",
       "overview                   4\n",
       "runtime                    0\n",
       "genres                    23\n",
       "production_companies    1030\n",
       "release_date               0\n",
       "vote_count                 0\n",
       "vote_average               0\n",
       "release_year               0\n",
       "budget_adj                 0\n",
       "revenue_adj                0\n",
       "dtype: int64"
      ]
     },
     "execution_count": 5,
     "metadata": {},
     "output_type": "execute_result"
    }
   ],
   "source": [
    "# 检查是否有空值\n",
    "\n",
    "df.isnull().sum()"
   ]
  },
  {
   "cell_type": "markdown",
   "metadata": {},
   "source": [
    "\n",
    "\n",
    "### 数据清理（）"
   ]
  },
  {
   "cell_type": "code",
   "execution_count": 6,
   "metadata": {},
   "outputs": [],
   "source": [
    "# 丢弃功能重复的列 budget 和 revenue，只保留budget_adj 和 revenue_adj 列\n",
    "\n",
    "df.drop(['budget','revenue'], axis=1, inplace=True)"
   ]
  },
  {
   "cell_type": "code",
   "execution_count": 7,
   "metadata": {},
   "outputs": [],
   "source": [
    "# 修正数据类型，\n",
    "# 把budget_adj 和 revenue_adj 列从浮点类型转换成整形\n",
    "\n",
    "df['budget_adj'] = df['budget_adj'].astype(int)\n",
    "df['revenue_adj'] = df['revenue_adj'].astype(int)"
   ]
  },
  {
   "cell_type": "code",
   "execution_count": 8,
   "metadata": {},
   "outputs": [],
   "source": [
    "# 将 budget_adj 重命名为 budget\n",
    "\n",
    "df = df.rename(columns={'budget_adj':'budget'})"
   ]
  },
  {
   "cell_type": "code",
   "execution_count": 9,
   "metadata": {},
   "outputs": [],
   "source": [
    "# 将 revenue_adj 重命名为 revenue\n",
    "\n",
    "df = df.rename(columns={'revenue_adj':'revenue'})"
   ]
  },
  {
   "cell_type": "code",
   "execution_count": 10,
   "metadata": {},
   "outputs": [],
   "source": [
    "# 解决数据冗余\n",
    "# 去重\n",
    "df.drop_duplicates(inplace=True)"
   ]
  },
  {
   "cell_type": "code",
   "execution_count": 11,
   "metadata": {},
   "outputs": [],
   "source": [
    "# 解决数据缺失\n",
    "# 删除空值行\n",
    "\n",
    "df.dropna(axis=0, how='all', inplace=True)"
   ]
  },
  {
   "cell_type": "code",
   "execution_count": 12,
   "metadata": {},
   "outputs": [],
   "source": [
    "# 解决数据缺失\n",
    "# 删除空值太多、且和问题无关的列 homepage，tagline, keywords, production_companies\n",
    "\n",
    "df.drop(['homepage','tagline','keywords','production_companies'], axis=1, inplace=True)"
   ]
  },
  {
   "cell_type": "code",
   "execution_count": 16,
   "metadata": {},
   "outputs": [],
   "source": [
    "# 清理Revenue 为0的行\n",
    "\n",
    "df= df.query('revenue != 0')"
   ]
  },
  {
   "cell_type": "code",
   "execution_count": 19,
   "metadata": {},
   "outputs": [],
   "source": [
    "# “电影类别 (genres)”列包含由竖线字符（|）分隔的多个数值\n",
    "# 拆分 genres 列为多行，以便于找出最受欢迎的电影类别\n",
    "\n",
    "df = df.drop('genres', axis=1).join(df['genres'].str.split('|', expand=True).stack().reset_index(level=1, drop=True).rename('genres'))"
   ]
  },
  {
   "cell_type": "markdown",
   "metadata": {},
   "source": [
    "<a id='eda'></a>\n",
    "## 探索性数据分析\n",
    "\n",
    "\n",
    "### 研究问题 1（每年最受欢迎的电影类别是哪些？ 这些类别和票房是什么关系？）"
   ]
  },
  {
   "cell_type": "code",
   "execution_count": 20,
   "metadata": {},
   "outputs": [
    {
     "data": {
      "text/html": [
       "<div>\n",
       "<style>\n",
       "    .dataframe thead tr:only-child th {\n",
       "        text-align: right;\n",
       "    }\n",
       "\n",
       "    .dataframe thead th {\n",
       "        text-align: left;\n",
       "    }\n",
       "\n",
       "    .dataframe tbody tr th {\n",
       "        vertical-align: top;\n",
       "    }\n",
       "</style>\n",
       "<table border=\"1\" class=\"dataframe\">\n",
       "  <thead>\n",
       "    <tr style=\"text-align: right;\">\n",
       "      <th></th>\n",
       "      <th></th>\n",
       "      <th>release_year</th>\n",
       "      <th>genres</th>\n",
       "      <th>popularity</th>\n",
       "    </tr>\n",
       "    <tr>\n",
       "      <th>release_year</th>\n",
       "      <th></th>\n",
       "      <th></th>\n",
       "      <th></th>\n",
       "      <th></th>\n",
       "    </tr>\n",
       "  </thead>\n",
       "  <tbody>\n",
       "    <tr>\n",
       "      <th rowspan=\"3\" valign=\"top\">1960</th>\n",
       "      <th>10141</th>\n",
       "      <td>1960</td>\n",
       "      <td>Drama</td>\n",
       "      <td>2.610362</td>\n",
       "    </tr>\n",
       "    <tr>\n",
       "      <th>10141</th>\n",
       "      <td>1960</td>\n",
       "      <td>Horror</td>\n",
       "      <td>2.610362</td>\n",
       "    </tr>\n",
       "    <tr>\n",
       "      <th>10141</th>\n",
       "      <td>1960</td>\n",
       "      <td>Thriller</td>\n",
       "      <td>2.610362</td>\n",
       "    </tr>\n",
       "    <tr>\n",
       "      <th rowspan=\"4\" valign=\"top\">1961</th>\n",
       "      <th>10110</th>\n",
       "      <td>1961</td>\n",
       "      <td>Adventure</td>\n",
       "      <td>2.631987</td>\n",
       "    </tr>\n",
       "    <tr>\n",
       "      <th>10110</th>\n",
       "      <td>1961</td>\n",
       "      <td>Animation</td>\n",
       "      <td>2.631987</td>\n",
       "    </tr>\n",
       "    <tr>\n",
       "      <th>10110</th>\n",
       "      <td>1961</td>\n",
       "      <td>Comedy</td>\n",
       "      <td>2.631987</td>\n",
       "    </tr>\n",
       "    <tr>\n",
       "      <th>10110</th>\n",
       "      <td>1961</td>\n",
       "      <td>Family</td>\n",
       "      <td>2.631987</td>\n",
       "    </tr>\n",
       "    <tr>\n",
       "      <th rowspan=\"3\" valign=\"top\">1962</th>\n",
       "      <th>9849</th>\n",
       "      <td>1962</td>\n",
       "      <td>Adventure</td>\n",
       "      <td>3.170651</td>\n",
       "    </tr>\n",
       "    <tr>\n",
       "      <th>9849</th>\n",
       "      <td>1962</td>\n",
       "      <td>Action</td>\n",
       "      <td>3.170651</td>\n",
       "    </tr>\n",
       "    <tr>\n",
       "      <th>9849</th>\n",
       "      <td>1962</td>\n",
       "      <td>Thriller</td>\n",
       "      <td>3.170651</td>\n",
       "    </tr>\n",
       "    <tr>\n",
       "      <th rowspan=\"3\" valign=\"top\">1963</th>\n",
       "      <th>10438</th>\n",
       "      <td>1963</td>\n",
       "      <td>Action</td>\n",
       "      <td>2.508235</td>\n",
       "    </tr>\n",
       "    <tr>\n",
       "      <th>10438</th>\n",
       "      <td>1963</td>\n",
       "      <td>Thriller</td>\n",
       "      <td>2.508235</td>\n",
       "    </tr>\n",
       "    <tr>\n",
       "      <th>10438</th>\n",
       "      <td>1963</td>\n",
       "      <td>Adventure</td>\n",
       "      <td>2.508235</td>\n",
       "    </tr>\n",
       "    <tr>\n",
       "      <th rowspan=\"3\" valign=\"top\">1964</th>\n",
       "      <th>9881</th>\n",
       "      <td>1964</td>\n",
       "      <td>Adventure</td>\n",
       "      <td>3.153791</td>\n",
       "    </tr>\n",
       "    <tr>\n",
       "      <th>9881</th>\n",
       "      <td>1964</td>\n",
       "      <td>Action</td>\n",
       "      <td>3.153791</td>\n",
       "    </tr>\n",
       "    <tr>\n",
       "      <th>9881</th>\n",
       "      <td>1964</td>\n",
       "      <td>Thriller</td>\n",
       "      <td>3.153791</td>\n",
       "    </tr>\n",
       "    <tr>\n",
       "      <th rowspan=\"3\" valign=\"top\">1965</th>\n",
       "      <th>10689</th>\n",
       "      <td>1965</td>\n",
       "      <td>Adventure</td>\n",
       "      <td>1.910465</td>\n",
       "    </tr>\n",
       "    <tr>\n",
       "      <th>10689</th>\n",
       "      <td>1965</td>\n",
       "      <td>Action</td>\n",
       "      <td>1.910465</td>\n",
       "    </tr>\n",
       "    <tr>\n",
       "      <th>10689</th>\n",
       "      <td>1965</td>\n",
       "      <td>Thriller</td>\n",
       "      <td>1.910465</td>\n",
       "    </tr>\n",
       "    <tr>\n",
       "      <th>1966</th>\n",
       "      <th>10822</th>\n",
       "      <td>1966</td>\n",
       "      <td>Drama</td>\n",
       "      <td>0.670274</td>\n",
       "    </tr>\n",
       "    <tr>\n",
       "      <th rowspan=\"3\" valign=\"top\">1967</th>\n",
       "      <th>10398</th>\n",
       "      <td>1967</td>\n",
       "      <td>Family</td>\n",
       "      <td>2.550704</td>\n",
       "    </tr>\n",
       "    <tr>\n",
       "      <th>10398</th>\n",
       "      <td>1967</td>\n",
       "      <td>Animation</td>\n",
       "      <td>2.550704</td>\n",
       "    </tr>\n",
       "    <tr>\n",
       "      <th>10398</th>\n",
       "      <td>1967</td>\n",
       "      <td>Adventure</td>\n",
       "      <td>2.550704</td>\n",
       "    </tr>\n",
       "    <tr>\n",
       "      <th rowspan=\"3\" valign=\"top\">1968</th>\n",
       "      <th>9719</th>\n",
       "      <td>1968</td>\n",
       "      <td>Science Fiction</td>\n",
       "      <td>3.309196</td>\n",
       "    </tr>\n",
       "    <tr>\n",
       "      <th>9719</th>\n",
       "      <td>1968</td>\n",
       "      <td>Mystery</td>\n",
       "      <td>3.309196</td>\n",
       "    </tr>\n",
       "    <tr>\n",
       "      <th>9719</th>\n",
       "      <td>1968</td>\n",
       "      <td>Adventure</td>\n",
       "      <td>3.309196</td>\n",
       "    </tr>\n",
       "    <tr>\n",
       "      <th rowspan=\"3\" valign=\"top\">1969</th>\n",
       "      <th>10724</th>\n",
       "      <td>1969</td>\n",
       "      <td>Adventure</td>\n",
       "      <td>1.778746</td>\n",
       "    </tr>\n",
       "    <tr>\n",
       "      <th>10724</th>\n",
       "      <td>1969</td>\n",
       "      <td>Action</td>\n",
       "      <td>1.778746</td>\n",
       "    </tr>\n",
       "    <tr>\n",
       "      <th>10724</th>\n",
       "      <td>1969</td>\n",
       "      <td>Thriller</td>\n",
       "      <td>1.778746</td>\n",
       "    </tr>\n",
       "    <tr>\n",
       "      <th>1970</th>\n",
       "      <th>10648</th>\n",
       "      <td>1970</td>\n",
       "      <td>Animation</td>\n",
       "      <td>1.936962</td>\n",
       "    </tr>\n",
       "    <tr>\n",
       "      <th>...</th>\n",
       "      <th>...</th>\n",
       "      <td>...</td>\n",
       "      <td>...</td>\n",
       "      <td>...</td>\n",
       "    </tr>\n",
       "    <tr>\n",
       "      <th>2007</th>\n",
       "      <th>7387</th>\n",
       "      <td>2007</td>\n",
       "      <td>Action</td>\n",
       "      <td>4.965391</td>\n",
       "    </tr>\n",
       "    <tr>\n",
       "      <th rowspan=\"4\" valign=\"top\">2008</th>\n",
       "      <th>2875</th>\n",
       "      <td>2008</td>\n",
       "      <td>Drama</td>\n",
       "      <td>8.466668</td>\n",
       "    </tr>\n",
       "    <tr>\n",
       "      <th>2875</th>\n",
       "      <td>2008</td>\n",
       "      <td>Action</td>\n",
       "      <td>8.466668</td>\n",
       "    </tr>\n",
       "    <tr>\n",
       "      <th>2875</th>\n",
       "      <td>2008</td>\n",
       "      <td>Crime</td>\n",
       "      <td>8.466668</td>\n",
       "    </tr>\n",
       "    <tr>\n",
       "      <th>2875</th>\n",
       "      <td>2008</td>\n",
       "      <td>Thriller</td>\n",
       "      <td>8.466668</td>\n",
       "    </tr>\n",
       "    <tr>\n",
       "      <th rowspan=\"4\" valign=\"top\">2009</th>\n",
       "      <th>1386</th>\n",
       "      <td>2009</td>\n",
       "      <td>Action</td>\n",
       "      <td>9.432768</td>\n",
       "    </tr>\n",
       "    <tr>\n",
       "      <th>1386</th>\n",
       "      <td>2009</td>\n",
       "      <td>Adventure</td>\n",
       "      <td>9.432768</td>\n",
       "    </tr>\n",
       "    <tr>\n",
       "      <th>1386</th>\n",
       "      <td>2009</td>\n",
       "      <td>Fantasy</td>\n",
       "      <td>9.432768</td>\n",
       "    </tr>\n",
       "    <tr>\n",
       "      <th>1386</th>\n",
       "      <td>2009</td>\n",
       "      <td>Science Fiction</td>\n",
       "      <td>9.432768</td>\n",
       "    </tr>\n",
       "    <tr>\n",
       "      <th rowspan=\"5\" valign=\"top\">2010</th>\n",
       "      <th>1919</th>\n",
       "      <td>2010</td>\n",
       "      <td>Action</td>\n",
       "      <td>9.363643</td>\n",
       "    </tr>\n",
       "    <tr>\n",
       "      <th>1919</th>\n",
       "      <td>2010</td>\n",
       "      <td>Thriller</td>\n",
       "      <td>9.363643</td>\n",
       "    </tr>\n",
       "    <tr>\n",
       "      <th>1919</th>\n",
       "      <td>2010</td>\n",
       "      <td>Science Fiction</td>\n",
       "      <td>9.363643</td>\n",
       "    </tr>\n",
       "    <tr>\n",
       "      <th>1919</th>\n",
       "      <td>2010</td>\n",
       "      <td>Mystery</td>\n",
       "      <td>9.363643</td>\n",
       "    </tr>\n",
       "    <tr>\n",
       "      <th>1919</th>\n",
       "      <td>2010</td>\n",
       "      <td>Adventure</td>\n",
       "      <td>9.363643</td>\n",
       "    </tr>\n",
       "    <tr>\n",
       "      <th rowspan=\"3\" valign=\"top\">2011</th>\n",
       "      <th>3372</th>\n",
       "      <td>2011</td>\n",
       "      <td>Action</td>\n",
       "      <td>7.959228</td>\n",
       "    </tr>\n",
       "    <tr>\n",
       "      <th>3372</th>\n",
       "      <td>2011</td>\n",
       "      <td>Adventure</td>\n",
       "      <td>7.959228</td>\n",
       "    </tr>\n",
       "    <tr>\n",
       "      <th>3372</th>\n",
       "      <td>2011</td>\n",
       "      <td>Science Fiction</td>\n",
       "      <td>7.959228</td>\n",
       "    </tr>\n",
       "    <tr>\n",
       "      <th rowspan=\"3\" valign=\"top\">2012</th>\n",
       "      <th>4361</th>\n",
       "      <td>2012</td>\n",
       "      <td>Science Fiction</td>\n",
       "      <td>7.637767</td>\n",
       "    </tr>\n",
       "    <tr>\n",
       "      <th>4361</th>\n",
       "      <td>2012</td>\n",
       "      <td>Action</td>\n",
       "      <td>7.637767</td>\n",
       "    </tr>\n",
       "    <tr>\n",
       "      <th>4361</th>\n",
       "      <td>2012</td>\n",
       "      <td>Adventure</td>\n",
       "      <td>7.637767</td>\n",
       "    </tr>\n",
       "    <tr>\n",
       "      <th rowspan=\"3\" valign=\"top\">2013</th>\n",
       "      <th>5422</th>\n",
       "      <td>2013</td>\n",
       "      <td>Animation</td>\n",
       "      <td>6.112766</td>\n",
       "    </tr>\n",
       "    <tr>\n",
       "      <th>5422</th>\n",
       "      <td>2013</td>\n",
       "      <td>Adventure</td>\n",
       "      <td>6.112766</td>\n",
       "    </tr>\n",
       "    <tr>\n",
       "      <th>5422</th>\n",
       "      <td>2013</td>\n",
       "      <td>Family</td>\n",
       "      <td>6.112766</td>\n",
       "    </tr>\n",
       "    <tr>\n",
       "      <th rowspan=\"3\" valign=\"top\">2014</th>\n",
       "      <th>629</th>\n",
       "      <td>2014</td>\n",
       "      <td>Adventure</td>\n",
       "      <td>24.949134</td>\n",
       "    </tr>\n",
       "    <tr>\n",
       "      <th>629</th>\n",
       "      <td>2014</td>\n",
       "      <td>Drama</td>\n",
       "      <td>24.949134</td>\n",
       "    </tr>\n",
       "    <tr>\n",
       "      <th>629</th>\n",
       "      <td>2014</td>\n",
       "      <td>Science Fiction</td>\n",
       "      <td>24.949134</td>\n",
       "    </tr>\n",
       "    <tr>\n",
       "      <th rowspan=\"4\" valign=\"top\">2015</th>\n",
       "      <th>0</th>\n",
       "      <td>2015</td>\n",
       "      <td>Action</td>\n",
       "      <td>32.985763</td>\n",
       "    </tr>\n",
       "    <tr>\n",
       "      <th>0</th>\n",
       "      <td>2015</td>\n",
       "      <td>Adventure</td>\n",
       "      <td>32.985763</td>\n",
       "    </tr>\n",
       "    <tr>\n",
       "      <th>0</th>\n",
       "      <td>2015</td>\n",
       "      <td>Science Fiction</td>\n",
       "      <td>32.985763</td>\n",
       "    </tr>\n",
       "    <tr>\n",
       "      <th>0</th>\n",
       "      <td>2015</td>\n",
       "      <td>Thriller</td>\n",
       "      <td>32.985763</td>\n",
       "    </tr>\n",
       "  </tbody>\n",
       "</table>\n",
       "<p>164 rows × 3 columns</p>\n",
       "</div>"
      ],
      "text/plain": [
       "                    release_year           genres  popularity\n",
       "release_year                                                 \n",
       "1960         10141          1960            Drama    2.610362\n",
       "             10141          1960           Horror    2.610362\n",
       "             10141          1960         Thriller    2.610362\n",
       "1961         10110          1961        Adventure    2.631987\n",
       "             10110          1961        Animation    2.631987\n",
       "             10110          1961           Comedy    2.631987\n",
       "             10110          1961           Family    2.631987\n",
       "1962         9849           1962        Adventure    3.170651\n",
       "             9849           1962           Action    3.170651\n",
       "             9849           1962         Thriller    3.170651\n",
       "1963         10438          1963           Action    2.508235\n",
       "             10438          1963         Thriller    2.508235\n",
       "             10438          1963        Adventure    2.508235\n",
       "1964         9881           1964        Adventure    3.153791\n",
       "             9881           1964           Action    3.153791\n",
       "             9881           1964         Thriller    3.153791\n",
       "1965         10689          1965        Adventure    1.910465\n",
       "             10689          1965           Action    1.910465\n",
       "             10689          1965         Thriller    1.910465\n",
       "1966         10822          1966            Drama    0.670274\n",
       "1967         10398          1967           Family    2.550704\n",
       "             10398          1967        Animation    2.550704\n",
       "             10398          1967        Adventure    2.550704\n",
       "1968         9719           1968  Science Fiction    3.309196\n",
       "             9719           1968          Mystery    3.309196\n",
       "             9719           1968        Adventure    3.309196\n",
       "1969         10724          1969        Adventure    1.778746\n",
       "             10724          1969           Action    1.778746\n",
       "             10724          1969         Thriller    1.778746\n",
       "1970         10648          1970        Animation    1.936962\n",
       "...                          ...              ...         ...\n",
       "2007         7387           2007           Action    4.965391\n",
       "2008         2875           2008            Drama    8.466668\n",
       "             2875           2008           Action    8.466668\n",
       "             2875           2008            Crime    8.466668\n",
       "             2875           2008         Thriller    8.466668\n",
       "2009         1386           2009           Action    9.432768\n",
       "             1386           2009        Adventure    9.432768\n",
       "             1386           2009          Fantasy    9.432768\n",
       "             1386           2009  Science Fiction    9.432768\n",
       "2010         1919           2010           Action    9.363643\n",
       "             1919           2010         Thriller    9.363643\n",
       "             1919           2010  Science Fiction    9.363643\n",
       "             1919           2010          Mystery    9.363643\n",
       "             1919           2010        Adventure    9.363643\n",
       "2011         3372           2011           Action    7.959228\n",
       "             3372           2011        Adventure    7.959228\n",
       "             3372           2011  Science Fiction    7.959228\n",
       "2012         4361           2012  Science Fiction    7.637767\n",
       "             4361           2012           Action    7.637767\n",
       "             4361           2012        Adventure    7.637767\n",
       "2013         5422           2013        Animation    6.112766\n",
       "             5422           2013        Adventure    6.112766\n",
       "             5422           2013           Family    6.112766\n",
       "2014         629            2014        Adventure   24.949134\n",
       "             629            2014            Drama   24.949134\n",
       "             629            2014  Science Fiction   24.949134\n",
       "2015         0              2015           Action   32.985763\n",
       "             0              2015        Adventure   32.985763\n",
       "             0              2015  Science Fiction   32.985763\n",
       "             0              2015         Thriller   32.985763\n",
       "\n",
       "[164 rows x 3 columns]"
      ]
     },
     "execution_count": 20,
     "metadata": {},
     "output_type": "execute_result"
    }
   ],
   "source": [
    "# 按年分组，找出每年最受欢迎的电影类别\n",
    "\n",
    "df.groupby('release_year').apply(lambda t: t[t.popularity==t.popularity.max()]).loc[:,['release_year','genres','popularity']]"
   ]
  },
  {
   "cell_type": "markdown",
   "metadata": {},
   "source": [
    "以上是每年最受欢迎的电影类别"
   ]
  },
  {
   "cell_type": "code",
   "execution_count": 46,
   "metadata": {},
   "outputs": [
    {
     "data": {
      "text/plain": [
       "Text(0.5,1,'Genres VS Average Revenue')"
      ]
     },
     "execution_count": 46,
     "metadata": {},
     "output_type": "execute_result"
    },
    {
     "data": {
      "image/png": "[encoded data removed]",
      "text/plain": [
       "<matplotlib.figure.Figure at 0x7f480afb4438>"
      ]
     },
     "metadata": {},
     "output_type": "display_data"
    }
   ],
   "source": [
    "# 使用可视化进一步分析电影类别和票房的关系\n",
    "\n",
    "df.groupby('genres')['revenue'].mean().sort_values(ascending = False).plot(kind = 'bar')\n",
    "plt.ylabel('revenue')\n",
    "plt.title('Genres VS Average Revenue')"
   ]
  },
  {
   "cell_type": "markdown",
   "metadata": {},
   "source": [
    "动画类、冒险类、奇幻类的电影的平均票房较高\n",
    "而记录片、外国片的平均票房较低"
   ]
  },
  {
   "cell_type": "markdown",
   "metadata": {},
   "source": [
    "### 研究问题 2（票房高的电影有哪些特点？）"
   ]
  },
  {
   "cell_type": "code",
   "execution_count": 48,
   "metadata": {},
   "outputs": [
    {
     "data": {
      "image/png": "[encoded data removed]",
      "text/plain": [
       "<matplotlib.figure.Figure at 0x7f480ae37668>"
      ]
     },
     "metadata": {},
     "output_type": "display_data"
    }
   ],
   "source": [
    "# 票房和受欢迎程度的散点图\n",
    "\n",
    "df.plot(x='popularity', y='revenue', kind='scatter');"
   ]
  },
  {
   "cell_type": "markdown",
   "metadata": {},
   "source": [
    "由图可知，票房和受欢迎程度之间没有必然关系"
   ]
  },
  {
   "cell_type": "code",
   "execution_count": 49,
   "metadata": {},
   "outputs": [
    {
     "data": {
      "image/png": "[encoded data removed]",
      "text/plain": [
       "<matplotlib.figure.Figure at 0x7f480afe1c18>"
      ]
     },
     "metadata": {},
     "output_type": "display_data"
    }
   ],
   "source": [
    "# 票房和电影时长的散点图\n",
    "\n",
    "df.plot(x='runtime', y='revenue', kind='scatter');"
   ]
  },
  {
   "cell_type": "markdown",
   "metadata": {},
   "source": [
    "由图可知，票房和电影时长之间没有必然关系"
   ]
  },
  {
   "cell_type": "code",
   "execution_count": 51,
   "metadata": {},
   "outputs": [
    {
     "data": {
      "image/png": "[encoded data removed]",
      "text/plain": [
       "<matplotlib.figure.Figure at 0x7f480b2551d0>"
      ]
     },
     "metadata": {},
     "output_type": "display_data"
    }
   ],
   "source": [
    "# 票房和得票数的散点图\n",
    "\n",
    "df.plot(x='vote_count', y='revenue', kind='scatter');"
   ]
  },
  {
   "cell_type": "markdown",
   "metadata": {},
   "source": [
    "由图可知，票房和得票数没有必然关系"
   ]
  },
  {
   "cell_type": "code",
   "execution_count": 52,
   "metadata": {},
   "outputs": [
    {
     "data": {
      "image/png": "[encoded data removed]",
      "text/plain": [
       "<matplotlib.figure.Figure at 0x7f480adf0128>"
      ]
     },
     "metadata": {},
     "output_type": "display_data"
    }
   ],
   "source": [
    "# 票房和平均得分的散点图\n",
    "\n",
    "df.plot(x='vote_average', y='revenue', kind='scatter');"
   ]
  },
  {
   "cell_type": "markdown",
   "metadata": {},
   "source": [
    "由图可知，得分越高，往往票房也越高"
   ]
  },
  {
   "cell_type": "code",
   "execution_count": 53,
   "metadata": {},
   "outputs": [
    {
     "data": {
      "image/png": "[encoded data removed]",
      "text/plain": [
       "<matplotlib.figure.Figure at 0x7f480acef0f0>"
      ]
     },
     "metadata": {},
     "output_type": "display_data"
    }
   ],
   "source": [
    "# 票房和发行年份的散点图\n",
    "\n",
    "df.plot(x='release_year', y='revenue', kind='scatter');"
   ]
  },
  {
   "cell_type": "markdown",
   "metadata": {},
   "source": [
    "由图可知，随着发行年份越往后，票房逐渐上升"
   ]
  },
  {
   "cell_type": "code",
   "execution_count": 55,
   "metadata": {},
   "outputs": [
    {
     "data": {
      "image/png": "[encoded data removed]",
      "text/plain": [
       "<matplotlib.figure.Figure at 0x7f480ab07828>"
      ]
     },
     "metadata": {},
     "output_type": "display_data"
    }
   ],
   "source": [
    "# 票房和成本的散点图\n",
    "\n",
    "df.plot(x='budget', y='revenue', kind='scatter');"
   ]
  },
  {
   "cell_type": "markdown",
   "metadata": {},
   "source": [
    "由图可知，成本和票房没有必然关联"
   ]
  },
  {
   "cell_type": "markdown",
   "metadata": {},
   "source": [
    "综上所述，票房高的电影有这样的特点：\n",
    "\n",
    "1. 平均得分(vote_average)越高，票房越高\n",
    "2. 越是近的年份(release_year)，票房越高"
   ]
  },
  {
   "cell_type": "markdown",
   "metadata": {},
   "source": [
    "<a id='conclusions'></a>\n",
    "## 结论\n",
    "\n",
    "本调查主要分析了两大问题：\n",
    "1，每年受欢迎的电影类别有哪些，类别和票房的大致关系\n",
    "2，票房高的电影有哪些特点。\n",
    "\n",
    "\n",
    "局限性在于：\n",
    "1. 数据列中有不少列是空值。由于是字符串类型，只能做丢弃处理，无法像数值类型那样可以求均值后作填充处理\n",
    "2. 未给出电影票房与非数值特征，如制片公司，导演，演职人员之间的关系"
   ]
  },
  {
   "cell_type": "code",
   "execution_count": 57,
   "metadata": {},
   "outputs": [
    {
     "data": {
      "text/plain": [
       "255"
      ]
     },
     "execution_count": 57,
     "metadata": {},
     "output_type": "execute_result"
    }
   ],
   "source": [
    "from subprocess import call\n",
    "call(['python', '-m', 'nbconvert', 'Investigate_a_Dataset.ipynb'])"
   ]
  },
  {
   "cell_type": "code",
   "execution_count": null,
   "metadata": {},
   "outputs": [],
   "source": []
  }
 ],
 "metadata": {
  "kernelspec": {
   "display_name": "Python 3",
   "language": "python",
   "name": "python3"
  },
  "language_info": {
   "codemirror_mode": {
    "name": "ipython",
    "version": 3
   },
   "file_extension": ".py",
   "mimetype": "text/x-python",
   "name": "python",
   "nbconvert_exporter": "python",
   "pygments_lexer": "ipython3",
   "version": "3.6.3"
  }
 },
 "nbformat": 4,
 "nbformat_minor": 2
}
